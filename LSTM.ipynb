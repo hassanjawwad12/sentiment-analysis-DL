{
  "nbformat": 4,
  "nbformat_minor": 0,
  "metadata": {
    "colab": {
      "provenance": []
    },
    "kernelspec": {
      "name": "python3",
      "display_name": "Python 3"
    },
    "language_info": {
      "name": "python"
    }
  },
  "cells": [
    {
      "cell_type": "code",
      "execution_count": 3,
      "metadata": {
        "id": "4wkXkk2yA4lO"
      },
      "outputs": [],
      "source": [
        "import warnings\n",
        "warnings.filterwarnings('ignore')\n",
        "\n"
      ]
    },
    {
      "cell_type": "code",
      "source": [
        "import pandas as pd\n",
        "import numpy as np\n",
        "import tensorflow as tf\n",
        "from tensorflow.keras.preprocessing.text import Tokenizer\n",
        "from tensorflow.keras.preprocessing.sequence import pad_sequences\n",
        "from tensorflow.keras.models import Sequential\n",
        "from tensorflow.keras.layers import Embedding, LSTM, Dense\n",
        "from tensorflow.keras.utils import to_categorical\n",
        "from sklearn.model_selection import train_test_split\n",
        "from sklearn.preprocessing import LabelEncoder\n",
        "\n",
        "# Attempt to read the CSV file with error handling\n",
        "try:\n",
        "    df1 = pd.read_csv('data.csv', encoding='utf-8', error_bad_lines=False)\n",
        "except pd.errors.ParserError as e:\n",
        "    print(f\"Error reading CSV file: {e}\")\n",
        "    df1 = None\n",
        "\n",
        "if df1 is not None:\n",
        "    # Select columns of interest\n",
        "    df = df1[['Review Text', 'Rating', 'Class Name', 'Age']]\n",
        "    # Assuming 'Rating' is the target column with sentiment labels\n",
        "    # and 'Review Text' is the feature column with text data\n",
        "    df = df.dropna(subset=['Review Text'])  # Drop rows with NaN values in 'Review Text'\n",
        "\n",
        "    X = df['Review Text']\n",
        "    y = df['Rating']\n",
        "\n",
        "    # Preprocess the text data\n",
        "    tokenizer = Tokenizer(num_words=5000, oov_token=\"<OOV>\")\n",
        "    tokenizer.fit_on_texts(X.astype(str))  # Convert to string to handle NaNs\n",
        "    sequences = tokenizer.texts_to_sequences(X)\n",
        "    padded_sequences = pad_sequences(sequences, truncating='post', maxlen=500)\n",
        "\n",
        "    # Encode the labels\n",
        "    encoder = LabelEncoder()\n",
        "    y_encoded = encoder.fit_transform(y)\n",
        "    y_categorical = to_categorical(y_encoded)\n",
        "\n",
        "    # Split the data into training and testing sets\n",
        "    X_train, X_test, y_train, y_test = train_test_split(padded_sequences, y_categorical, test_size=0.2)\n",
        "\n",
        "    # Define the LSTM model\n",
        "    model = Sequential()\n",
        "    model.add(Embedding(5000, 64, input_length=500))\n",
        "    model.add(LSTM(64, dropout=0.2))\n",
        "    # Change the output layer to have the same number of units as the number of classes\n",
        "    # and use softmax activation for multi-class classification\n",
        "    model.add(Dense(len(np.unique(y)), activation='softmax'))\n",
        "\n",
        "    # Compile the model\n",
        "    model.compile(loss='categorical_crossentropy', optimizer='adam', metrics=['accuracy'])\n",
        "\n",
        "    # Train the model\n",
        "    model.fit(X_train, y_train, validation_data=(X_test, y_test), epochs=20, batch_size=64)\n",
        "\n",
        "    # Evaluate the model\n",
        "    loss, accuracy = model.evaluate(X_test, y_test)\n",
        "    print(f\"LSTM Model Accuracy: {accuracy * 100:.2f}%\")\n",
        "else:\n",
        "    print(\"CSV file couldn't be loaded due to parsing errors.\")"
      ],
      "metadata": {
        "id": "f3z7YX-gKtvY",
        "outputId": "92bbdf1f-26d4-459b-8212-6609bc48e630",
        "colab": {
          "base_uri": "https://localhost:8080/"
        }
      },
      "execution_count": 4,
      "outputs": [
        {
          "output_type": "stream",
          "name": "stdout",
          "text": [
            "Epoch 1/20\n",
            "533/533 [==============================] - 211s 390ms/step - loss: 1.3077 - accuracy: 0.4067 - val_loss: 1.2544 - val_accuracy: 0.4170\n",
            "Epoch 2/20\n",
            "533/533 [==============================] - 208s 390ms/step - loss: 1.2157 - accuracy: 0.4387 - val_loss: 1.2607 - val_accuracy: 0.4237\n",
            "Epoch 3/20\n",
            "533/533 [==============================] - 206s 387ms/step - loss: 1.1763 - accuracy: 0.4528 - val_loss: 1.2258 - val_accuracy: 0.4359\n",
            "Epoch 4/20\n",
            "533/533 [==============================] - 208s 390ms/step - loss: 1.1450 - accuracy: 0.4697 - val_loss: 1.2307 - val_accuracy: 0.4271\n",
            "Epoch 5/20\n",
            "533/533 [==============================] - 210s 394ms/step - loss: 1.1192 - accuracy: 0.4809 - val_loss: 1.2534 - val_accuracy: 0.4215\n",
            "Epoch 6/20\n",
            "533/533 [==============================] - 207s 388ms/step - loss: 1.0927 - accuracy: 0.4940 - val_loss: 1.2848 - val_accuracy: 0.4254\n",
            "Epoch 7/20\n",
            "533/533 [==============================] - 209s 392ms/step - loss: 1.0701 - accuracy: 0.5063 - val_loss: 1.3077 - val_accuracy: 0.4220\n",
            "Epoch 8/20\n",
            "533/533 [==============================] - 211s 396ms/step - loss: 1.0444 - accuracy: 0.5197 - val_loss: 1.3107 - val_accuracy: 0.4186\n",
            "Epoch 9/20\n",
            "533/533 [==============================] - 209s 393ms/step - loss: 1.0229 - accuracy: 0.5307 - val_loss: 1.3540 - val_accuracy: 0.4092\n",
            "Epoch 10/20\n",
            "533/533 [==============================] - 209s 393ms/step - loss: 1.0049 - accuracy: 0.5352 - val_loss: 1.3696 - val_accuracy: 0.4095\n",
            "Epoch 11/20\n",
            "533/533 [==============================] - 208s 390ms/step - loss: 0.9842 - accuracy: 0.5453 - val_loss: 1.4085 - val_accuracy: 0.4122\n",
            "Epoch 12/20\n",
            "533/533 [==============================] - 206s 387ms/step - loss: 0.9664 - accuracy: 0.5521 - val_loss: 1.4451 - val_accuracy: 0.4122\n",
            "Epoch 13/20\n",
            "533/533 [==============================] - 204s 383ms/step - loss: 0.9478 - accuracy: 0.5630 - val_loss: 1.4835 - val_accuracy: 0.4086\n",
            "Epoch 14/20\n",
            "533/533 [==============================] - 209s 392ms/step - loss: 0.9331 - accuracy: 0.5643 - val_loss: 1.5244 - val_accuracy: 0.4037\n",
            "Epoch 15/20\n",
            "533/533 [==============================] - 210s 393ms/step - loss: 0.9160 - accuracy: 0.5757 - val_loss: 1.5355 - val_accuracy: 0.3983\n",
            "Epoch 16/20\n",
            "533/533 [==============================] - 207s 388ms/step - loss: 0.9023 - accuracy: 0.5812 - val_loss: 1.6058 - val_accuracy: 0.4081\n",
            "Epoch 17/20\n",
            "533/533 [==============================] - 207s 388ms/step - loss: 0.8956 - accuracy: 0.5822 - val_loss: 1.6339 - val_accuracy: 0.4022\n",
            "Epoch 18/20\n",
            "533/533 [==============================] - 209s 392ms/step - loss: 0.8855 - accuracy: 0.5881 - val_loss: 1.5993 - val_accuracy: 0.3991\n",
            "Epoch 19/20\n",
            "533/533 [==============================] - 207s 388ms/step - loss: 0.8757 - accuracy: 0.5909 - val_loss: 1.6857 - val_accuracy: 0.4047\n",
            "Epoch 20/20\n",
            "533/533 [==============================] - 208s 391ms/step - loss: 0.8647 - accuracy: 0.5950 - val_loss: 1.7152 - val_accuracy: 0.3879\n",
            "267/267 [==============================] - 17s 64ms/step - loss: 1.7152 - accuracy: 0.3879\n",
            "LSTM Model Accuracy: 38.79%\n"
          ]
        }
      ]
    },
    {
      "cell_type": "code",
      "source": [
        "from sklearn.metrics import classification_report\n",
        "import numpy as np\n",
        "\n",
        "# Assuming y_test is a one-hot encoded array, convert it back to class labels\n",
        "y_test_labels = np.argmax(y_test, axis=1)\n",
        "\n",
        "# Now y_test_labels is a 1D array of class labels\n",
        "# Let's assume you have a trained model named 'model' and you want to predict on y_test\n",
        "y_pred = model.predict(X_test)\n",
        "\n",
        "# If your model outputs probabilities, you might need to convert them to class labels\n",
        "y_pred_labels = np.argmax(y_pred, axis=1)\n",
        "\n",
        "# Compute and print the classification report\n",
        "report = classification_report(y_test_labels, y_pred_labels)\n",
        "print(\"Classification Report:\")\n",
        "print(report)"
      ],
      "metadata": {
        "colab": {
          "base_uri": "https://localhost:8080/"
        },
        "id": "bN2z_ko2Ufw7",
        "outputId": "447e9174-81a6-489b-d953-3bd8022b1a8b"
      },
      "execution_count": 7,
      "outputs": [
        {
          "output_type": "stream",
          "name": "stdout",
          "text": [
            "267/267 [==============================] - 20s 71ms/step\n",
            "Classification Report:\n",
            "              precision    recall  f1-score   support\n",
            "\n",
            "           0       0.21      0.34      0.26      1002\n",
            "           1       0.21      0.14      0.17      1106\n",
            "           2       0.24      0.28      0.26      1364\n",
            "           3       0.32      0.23      0.27      1794\n",
            "           4       0.60      0.62      0.61      3263\n",
            "\n",
            "    accuracy                           0.39      8529\n",
            "   macro avg       0.32      0.32      0.31      8529\n",
            "weighted avg       0.39      0.39      0.38      8529\n",
            "\n"
          ]
        }
      ]
    }
  ]
}
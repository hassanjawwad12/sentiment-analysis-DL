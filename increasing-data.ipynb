{
  "nbformat": 4,
  "nbformat_minor": 0,
  "metadata": {
    "colab": {
      "provenance": []
    },
    "kernelspec": {
      "name": "python3",
      "display_name": "Python 3"
    },
    "language_info": {
      "name": "python"
    }
  },
  "cells": [
    {
      "cell_type": "code",
      "execution_count": 1,
      "metadata": {
        "colab": {
          "base_uri": "https://localhost:8080/"
        },
        "id": "YAtzYPolqmc9",
        "outputId": "d2d795c7-e797-43a4-d421-f3389524341c"
      },
      "outputs": [
        {
          "output_type": "stream",
          "name": "stdout",
          "text": [
            "       Clothing ID  Age                                            Title  \\\n",
            "0             1082   18          Versatile Wonderful Cute Love Love Cute   \n",
            "1              827   45  Loved, but returned Flattering Great Super cute   \n",
            "2              474   48                          Not for the very petite   \n",
            "3              791   34        Love this Super cute Super cute Love Cute   \n",
            "4              667   37    Flattering Great Cute Super cute Love Stylish   \n",
            "...            ...  ...                                              ...   \n",
            "19995          300   54                     Pretty party dress with some   \n",
            "19996          190   56                   I'm torn! Flattering Love Cute   \n",
            "19997          259   56     Some major design flaws Wonderful Super cute   \n",
            "19998          285   19              This dress is perfection Cute Great   \n",
            "19999          662   58                                You need to be at   \n",
            "\n",
            "                                  Review Text  Rating  Recommended IND  \\\n",
            "0               Dress looks like it's made of       3                0   \n",
            "1            I'm torn! Stylish Love Wonderful       4                1   \n",
            "2           Super cute and cozy Great Stylish       5                1   \n",
            "3        My favorite buy Super cute Wonderful       1                0   \n",
            "4          Love this Versatile Love Cute Love       4                1   \n",
            "...                                       ...     ...              ...   \n",
            "19995                       You need to be at       2                0   \n",
            "19996           This dress is perfection Love       2                1   \n",
            "19997  Versatile Cute Love Flattering Stylish       1                1   \n",
            "19998      Falls flat Stylish Love Cute Great       1                0   \n",
            "19999           Dress looks like it's made of       3                1   \n",
            "\n",
            "       Positive Feedback Count Division Name Department Name Class Name  \n",
            "0                           10       General         Jackets  Outerwear  \n",
            "1                           16       General         Dresses    Dresses  \n",
            "2                            9       General       Intimates  Outerwear  \n",
            "3                           13       General         Jackets      Pants  \n",
            "4                           11       General       Intimates     Lounge  \n",
            "...                        ...           ...             ...        ...  \n",
            "19995                       17       General       Intimates      Pants  \n",
            "19996                        5       General         Dresses      Knits  \n",
            "19997                       11       General       Intimates    Blouses  \n",
            "19998                       10       General         Bottoms    Blouses  \n",
            "19999                       19       General         Jackets  Outerwear  \n",
            "\n",
            "[20000 rows x 10 columns]\n"
          ]
        }
      ],
      "source": [
        "import pandas as pd\n",
        "import random\n",
        "\n",
        "# Function to generate random reviews with a pattern and 5-6 words\n",
        "def generate_review():\n",
        "    positive_adjectives = [\"Wonderful\", \"Love\", \"Flattering\", \"Cute\", \"Stylish\", \"Super cute\", \"Versatile\", \"Great\"]\n",
        "    clothing_types = [\"dress\", \"jumpsuit\", \"shirt\", \"blouse\", \"coat\", \"sweater\", \"skirt\"]\n",
        "    review_patterns = [\"Absolutely\", \"Love this\", \"Some major design flaws\", \"My favorite buy\", \"Flattering\", \"Not for the very petite\", \"Charcoal shimmer fun\", \"Shimmer, surprisingly goes with lots\", \"Flattering\", \"Such a fun dress\", \"Dress looks like it's made of cheap material\", \"This dress is perfection\", \"Perfect!!!\", \"Runs big\", \"Pretty party dress with some issues\", \"Nice, but not for my body\", \"You need to be at least average height, or taller\", \"Looks great with white pants\", \"Super cute and cozy\", \"Stylish and comfortable\", \"Cute, crisp shirt\", \"I'm torn!\", \"Not what it looks like\", \"Like it, but don't love it.\", \"Versatile\", \"Falls flat\", \"Huge disappointment\", \"Loved, but returned\", \"Great shirt!!!\"]\n",
        "\n",
        "    # Ensure the review has 5 to 6 words\n",
        "    num_words = random.randint(5, 6)\n",
        "    pattern = random.choice(review_patterns)\n",
        "    words = pattern.split()[:num_words]\n",
        "    while len(words) < num_words:\n",
        "        words.append(random.choice(positive_adjectives))\n",
        "\n",
        "    review = ' '.join(words)\n",
        "    return review\n",
        "\n",
        "# Function to generate random data for each column\n",
        "def generate_data():\n",
        "    clothing_id = random.randint(100, 1200)\n",
        "    age = random.randint(18, 60)\n",
        "    title = generate_review()\n",
        "    review_text = generate_review()\n",
        "    rating = random.randint(1, 5)\n",
        "    recommended_ind = random.randint(0, 1)\n",
        "    positive_feedback_count = random.randint(0, 20)\n",
        "    division_name = \"General\"\n",
        "    department_name = random.choice([\"Dresses\", \"Bottoms\", \"Tops\", \"Jackets\", \"Intimates\"])\n",
        "    class_name = random.choice([\"Dresses\", \"Pants\", \"Blouses\", \"Outerwear\", \"Knits\", \"Lounge\"])\n",
        "\n",
        "    return [clothing_id, age, title, review_text, rating, recommended_ind, positive_feedback_count, division_name, department_name, class_name]\n",
        "\n",
        "# Generate 20,000 rows of data\n",
        "data = [generate_data() for _ in range(20000)]\n",
        "\n",
        "# Create DataFrame\n",
        "columns = [\"Clothing ID\", \"Age\", \"Title\", \"Review Text\", \"Rating\", \"Recommended IND\", \"Positive Feedback Count\", \"Division Name\", \"Department Name\", \"Class Name\"]\n",
        "df = pd.DataFrame(data, columns=columns)\n",
        "\n",
        "# Display the DataFrame\n",
        "print(df)\n"
      ]
    },
    {
      "cell_type": "code",
      "source": [
        "df.to_csv('clothing_reviewsI.csv', index=False)"
      ],
      "metadata": {
        "id": "IoZ9Do95q3_a"
      },
      "execution_count": 2,
      "outputs": []
    }
  ]
}